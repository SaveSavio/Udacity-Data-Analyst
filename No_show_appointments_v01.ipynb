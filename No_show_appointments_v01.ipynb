{
 "cells": [
  {
   "cell_type": "markdown",
   "metadata": {},
   "source": [
    "# \n",
    "# Project: No Show Appointments\n",
    "\n",
    "### Information from > 100k medical appointments in Brazil, with focus on \"no show\" appointments\n",
    "\n",
    "> **Saverio Tufano** May 2021, Bedford, UK\n",
    "\n",
    "## Table of Contents\n",
    "<ul>\n",
    "<li><a href=\"#intro\">Introduction</a></li>\n",
    "<li><a href=\"#wrangling\">Data Wrangling</a></li>\n",
    "<li><a href=\"#eda\">Exploratory Data Analysis</a></li>\n",
    "<li><a href=\"#conclusions\">Conclusions</a></li>\n",
    "</ul>"
   ]
  },
  {
   "cell_type": "markdown",
   "metadata": {},
   "source": [
    "<a id='intro'></a>\n",
    "## Introduction\n",
    "\n",
    "This dataset collects information from 100k medical appointments in Brazil and focus on whether or not patients show up to their appointment. A number of characteristics about the patient are included in each row:\n",
    "- ‘ScheduledDay’ tells us on what day the patient set up their appointment.\n",
    "- ‘Neighborhood’ indicates the location of the hospital\n",
    "- ‘Age’\n",
    "- and more\n",
    "\n",
    "Source:\n",
    "> https://www.kaggle.com/joniarroba/noshowappointments"
   ]
  },
  {
   "cell_type": "code",
   "execution_count": 2,
   "metadata": {},
   "outputs": [],
   "source": [
    "# Import packages and data\n",
    "import pandas as pd\n",
    "import matplotlib.pyplot as plt\n",
    "%matplotlib inline\n",
    "df = pd.read_csv('noshowappointments-kagglev2-may-2016.csv')"
   ]
  },
  {
   "cell_type": "markdown",
   "metadata": {},
   "source": [
    "<a id='wrangling'></a>\n",
    "## Data Wrangling\n",
    "\n",
    "\n",
    "### General Properties"
   ]
  },
  {
   "cell_type": "code",
   "execution_count": 3,
   "metadata": {},
   "outputs": [
    {
     "name": "stdout",
     "output_type": "stream",
     "text": [
      "df rows and columns are:\n",
      " (110527, 14)\n",
      "\n",
      "df column names are:\n",
      " Index(['PatientId', 'AppointmentID', 'Gender', 'ScheduledDay',\n",
      "       'AppointmentDay', 'Age', 'Neighbourhood', 'Scholarship', 'Hipertension',\n",
      "       'Diabetes', 'Alcoholism', 'Handcap', 'SMS_received', 'No-show'],\n",
      "      dtype='object')\n"
     ]
    },
    {
     "data": {
      "text/html": [
       "<div>\n",
       "<style scoped>\n",
       "    .dataframe tbody tr th:only-of-type {\n",
       "        vertical-align: middle;\n",
       "    }\n",
       "\n",
       "    .dataframe tbody tr th {\n",
       "        vertical-align: top;\n",
       "    }\n",
       "\n",
       "    .dataframe thead th {\n",
       "        text-align: right;\n",
       "    }\n",
       "</style>\n",
       "<table border=\"1\" class=\"dataframe\">\n",
       "  <thead>\n",
       "    <tr style=\"text-align: right;\">\n",
       "      <th></th>\n",
       "      <th>PatientId</th>\n",
       "      <th>AppointmentID</th>\n",
       "      <th>Gender</th>\n",
       "      <th>ScheduledDay</th>\n",
       "      <th>AppointmentDay</th>\n",
       "      <th>Age</th>\n",
       "      <th>Neighbourhood</th>\n",
       "      <th>Scholarship</th>\n",
       "      <th>Hipertension</th>\n",
       "      <th>Diabetes</th>\n",
       "      <th>Alcoholism</th>\n",
       "      <th>Handcap</th>\n",
       "      <th>SMS_received</th>\n",
       "      <th>No-show</th>\n",
       "    </tr>\n",
       "  </thead>\n",
       "  <tbody>\n",
       "    <tr>\n",
       "      <th>0</th>\n",
       "      <td>2.987250e+13</td>\n",
       "      <td>5642903</td>\n",
       "      <td>F</td>\n",
       "      <td>2016-04-29T18:38:08Z</td>\n",
       "      <td>2016-04-29T00:00:00Z</td>\n",
       "      <td>62</td>\n",
       "      <td>JARDIM DA PENHA</td>\n",
       "      <td>0</td>\n",
       "      <td>1</td>\n",
       "      <td>0</td>\n",
       "      <td>0</td>\n",
       "      <td>0</td>\n",
       "      <td>0</td>\n",
       "      <td>No</td>\n",
       "    </tr>\n",
       "    <tr>\n",
       "      <th>1</th>\n",
       "      <td>5.589978e+14</td>\n",
       "      <td>5642503</td>\n",
       "      <td>M</td>\n",
       "      <td>2016-04-29T16:08:27Z</td>\n",
       "      <td>2016-04-29T00:00:00Z</td>\n",
       "      <td>56</td>\n",
       "      <td>JARDIM DA PENHA</td>\n",
       "      <td>0</td>\n",
       "      <td>0</td>\n",
       "      <td>0</td>\n",
       "      <td>0</td>\n",
       "      <td>0</td>\n",
       "      <td>0</td>\n",
       "      <td>No</td>\n",
       "    </tr>\n",
       "    <tr>\n",
       "      <th>2</th>\n",
       "      <td>4.262962e+12</td>\n",
       "      <td>5642549</td>\n",
       "      <td>F</td>\n",
       "      <td>2016-04-29T16:19:04Z</td>\n",
       "      <td>2016-04-29T00:00:00Z</td>\n",
       "      <td>62</td>\n",
       "      <td>MATA DA PRAIA</td>\n",
       "      <td>0</td>\n",
       "      <td>0</td>\n",
       "      <td>0</td>\n",
       "      <td>0</td>\n",
       "      <td>0</td>\n",
       "      <td>0</td>\n",
       "      <td>No</td>\n",
       "    </tr>\n",
       "    <tr>\n",
       "      <th>3</th>\n",
       "      <td>8.679512e+11</td>\n",
       "      <td>5642828</td>\n",
       "      <td>F</td>\n",
       "      <td>2016-04-29T17:29:31Z</td>\n",
       "      <td>2016-04-29T00:00:00Z</td>\n",
       "      <td>8</td>\n",
       "      <td>PONTAL DE CAMBURI</td>\n",
       "      <td>0</td>\n",
       "      <td>0</td>\n",
       "      <td>0</td>\n",
       "      <td>0</td>\n",
       "      <td>0</td>\n",
       "      <td>0</td>\n",
       "      <td>No</td>\n",
       "    </tr>\n",
       "    <tr>\n",
       "      <th>4</th>\n",
       "      <td>8.841186e+12</td>\n",
       "      <td>5642494</td>\n",
       "      <td>F</td>\n",
       "      <td>2016-04-29T16:07:23Z</td>\n",
       "      <td>2016-04-29T00:00:00Z</td>\n",
       "      <td>56</td>\n",
       "      <td>JARDIM DA PENHA</td>\n",
       "      <td>0</td>\n",
       "      <td>1</td>\n",
       "      <td>1</td>\n",
       "      <td>0</td>\n",
       "      <td>0</td>\n",
       "      <td>0</td>\n",
       "      <td>No</td>\n",
       "    </tr>\n",
       "  </tbody>\n",
       "</table>\n",
       "</div>"
      ],
      "text/plain": [
       "      PatientId  AppointmentID Gender          ScheduledDay  \\\n",
       "0  2.987250e+13        5642903      F  2016-04-29T18:38:08Z   \n",
       "1  5.589978e+14        5642503      M  2016-04-29T16:08:27Z   \n",
       "2  4.262962e+12        5642549      F  2016-04-29T16:19:04Z   \n",
       "3  8.679512e+11        5642828      F  2016-04-29T17:29:31Z   \n",
       "4  8.841186e+12        5642494      F  2016-04-29T16:07:23Z   \n",
       "\n",
       "         AppointmentDay  Age      Neighbourhood  Scholarship  Hipertension  \\\n",
       "0  2016-04-29T00:00:00Z   62    JARDIM DA PENHA            0             1   \n",
       "1  2016-04-29T00:00:00Z   56    JARDIM DA PENHA            0             0   \n",
       "2  2016-04-29T00:00:00Z   62      MATA DA PRAIA            0             0   \n",
       "3  2016-04-29T00:00:00Z    8  PONTAL DE CAMBURI            0             0   \n",
       "4  2016-04-29T00:00:00Z   56    JARDIM DA PENHA            0             1   \n",
       "\n",
       "   Diabetes  Alcoholism  Handcap  SMS_received No-show  \n",
       "0         0           0        0             0      No  \n",
       "1         0           0        0             0      No  \n",
       "2         0           0        0             0      No  \n",
       "3         0           0        0             0      No  \n",
       "4         1           0        0             0      No  "
      ]
     },
     "execution_count": 3,
     "metadata": {},
     "output_type": "execute_result"
    }
   ],
   "source": [
    "# understand dimensions of the dataset, column names\n",
    "print('df rows and columns are:\\n {}'.format(df.shape))\n",
    "print('\\ndf column names are:\\n {}'.format(df.columns))\n",
    "# print a preview\n",
    "df.head()"
   ]
  },
  {
   "cell_type": "code",
   "execution_count": 175,
   "metadata": {
    "scrolled": true
   },
   "outputs": [
    {
     "data": {
      "text/plain": [
       "PatientId         float64\n",
       "AppointmentID       int64\n",
       "Gender             object\n",
       "ScheduledDay       object\n",
       "AppointmentDay     object\n",
       "Age                 int64\n",
       "Neighbourhood      object\n",
       "Scholarship         int64\n",
       "Hipertension        int64\n",
       "Diabetes            int64\n",
       "Alcoholism          int64\n",
       "Handcap             int64\n",
       "SMS_received        int64\n",
       "No-show            object\n",
       "dtype: object"
      ]
     },
     "execution_count": 175,
     "metadata": {},
     "output_type": "execute_result"
    }
   ],
   "source": [
    "# check data types\n",
    "df.dtypes\n",
    "# patientId is a float, but it could be an \"int\"\n",
    "# dates are formatted as \"string\", they should be converted to datetime"
   ]
  },
  {
   "cell_type": "code",
   "execution_count": 176,
   "metadata": {
    "scrolled": true
   },
   "outputs": [
    {
     "data": {
      "text/plain": [
       "PatientId         0\n",
       "AppointmentID     0\n",
       "Gender            0\n",
       "ScheduledDay      0\n",
       "AppointmentDay    0\n",
       "Age               0\n",
       "Neighbourhood     0\n",
       "Scholarship       0\n",
       "Hipertension      0\n",
       "Diabetes          0\n",
       "Alcoholism        0\n",
       "Handcap           0\n",
       "SMS_received      0\n",
       "No-show           0\n",
       "dtype: int64"
      ]
     },
     "execution_count": 176,
     "metadata": {},
     "output_type": "execute_result"
    }
   ],
   "source": [
    "# check for missing data\n",
    "df.isna().sum()\n",
    "# no missing data is detected"
   ]
  },
  {
   "cell_type": "code",
   "execution_count": 177,
   "metadata": {},
   "outputs": [
    {
     "data": {
      "text/plain": [
       "0"
      ]
     },
     "execution_count": 177,
     "metadata": {},
     "output_type": "execute_result"
    }
   ],
   "source": [
    "# check for duplicates\n",
    "df.duplicated().sum()\n",
    "# no duplicated row is detected"
   ]
  },
  {
   "cell_type": "code",
   "execution_count": 178,
   "metadata": {},
   "outputs": [
    {
     "name": "stdout",
     "output_type": "stream",
     "text": [
      "62299\n",
      "110527\n"
     ]
    }
   ],
   "source": [
    "# check how many unique patients and how many unique appointments\n",
    "print(df.PatientId.nunique())\n",
    "print(df.AppointmentID.nunique())\n",
    "# some patients have booked more than once, only one "
   ]
  },
  {
   "cell_type": "code",
   "execution_count": 179,
   "metadata": {},
   "outputs": [
    {
     "name": "stdout",
     "output_type": "stream",
     "text": [
      "110522    2016-06-07T00:00:00Z\n",
      "110523    2016-06-07T00:00:00Z\n",
      "110524    2016-06-07T00:00:00Z\n",
      "110525    2016-06-07T00:00:00Z\n",
      "110526    2016-06-07T00:00:00Z\n",
      "Name: AppointmentDay, dtype: object\n"
     ]
    }
   ],
   "source": [
    "# check date format\n",
    "print(df.AppointmentDay.tail(5))\n",
    "# it appears dates need some cleaning, by splitting date and hour"
   ]
  },
  {
   "cell_type": "markdown",
   "metadata": {},
   "source": [
    "### Data Cleaning"
   ]
  },
  {
   "cell_type": "code",
   "execution_count": 180,
   "metadata": {},
   "outputs": [
    {
     "data": {
      "text/html": [
       "<div>\n",
       "<style scoped>\n",
       "    .dataframe tbody tr th:only-of-type {\n",
       "        vertical-align: middle;\n",
       "    }\n",
       "\n",
       "    .dataframe tbody tr th {\n",
       "        vertical-align: top;\n",
       "    }\n",
       "\n",
       "    .dataframe thead th {\n",
       "        text-align: right;\n",
       "    }\n",
       "</style>\n",
       "<table border=\"1\" class=\"dataframe\">\n",
       "  <thead>\n",
       "    <tr style=\"text-align: right;\">\n",
       "      <th></th>\n",
       "      <th>patient_id</th>\n",
       "      <th>appointment_id</th>\n",
       "      <th>gender</th>\n",
       "      <th>scheduled_day</th>\n",
       "      <th>appointment_day</th>\n",
       "      <th>age</th>\n",
       "      <th>neighbourhood</th>\n",
       "      <th>scholarship</th>\n",
       "      <th>hipertension</th>\n",
       "      <th>diabetes</th>\n",
       "      <th>alcoholism</th>\n",
       "      <th>handcap</th>\n",
       "      <th>sms_received</th>\n",
       "      <th>no_show</th>\n",
       "    </tr>\n",
       "  </thead>\n",
       "  <tbody>\n",
       "    <tr>\n",
       "      <th>0</th>\n",
       "      <td>2.987250e+13</td>\n",
       "      <td>5642903</td>\n",
       "      <td>F</td>\n",
       "      <td>2016-04-29T18:38:08Z</td>\n",
       "      <td>2016-04-29T00:00:00Z</td>\n",
       "      <td>62</td>\n",
       "      <td>JARDIM DA PENHA</td>\n",
       "      <td>0</td>\n",
       "      <td>1</td>\n",
       "      <td>0</td>\n",
       "      <td>0</td>\n",
       "      <td>0</td>\n",
       "      <td>0</td>\n",
       "      <td>No</td>\n",
       "    </tr>\n",
       "  </tbody>\n",
       "</table>\n",
       "</div>"
      ],
      "text/plain": [
       "     patient_id  appointment_id gender         scheduled_day  \\\n",
       "0  2.987250e+13         5642903      F  2016-04-29T18:38:08Z   \n",
       "\n",
       "        appointment_day  age    neighbourhood  scholarship  hipertension  \\\n",
       "0  2016-04-29T00:00:00Z   62  JARDIM DA PENHA            0             1   \n",
       "\n",
       "   diabetes  alcoholism  handcap  sms_received no_show  \n",
       "0         0           0        0             0      No  "
      ]
     },
     "execution_count": 180,
     "metadata": {},
     "output_type": "execute_result"
    }
   ],
   "source": [
    "# rename columns headers to standard convention: all lowercase and add underscore for readability\n",
    "df.columns = ['Patient_Id', 'Appointment_ID', 'Gender', 'Scheduled_Day',\n",
    "       'Appointment_Day', 'Age', 'Neighbourhood', 'Scholarship', 'Hipertension',\n",
    "       'Diabetes', 'Alcoholism', 'Handcap', 'SMS_received', 'No_show']\n",
    "# make all headers lowercase\n",
    "df.columns = df.columns.str.lower()\n",
    "# check results\n",
    "df.head(1)"
   ]
  },
  {
   "cell_type": "code",
   "execution_count": 181,
   "metadata": {},
   "outputs": [
    {
     "data": {
      "text/plain": [
       "(62299, 14)"
      ]
     },
     "execution_count": 181,
     "metadata": {},
     "output_type": "execute_result"
    }
   ],
   "source": [
    "# there are patients with multiple bookings, best to delete them\n",
    "# the choice of keeping the first line of the dataset is arbitrary\n",
    "df.drop_duplicates(subset = 'patient_id', keep = 'first', inplace = True)\n",
    "# confirm new dataframe shape\n",
    "df.shape"
   ]
  },
  {
   "cell_type": "code",
   "execution_count": 182,
   "metadata": {},
   "outputs": [
    {
     "data": {
      "text/plain": [
       "0     29872499824296\n",
       "1    558997776694438\n",
       "2      4262962299951\n",
       "3       867951213174\n",
       "4      8841186448183\n",
       "Name: patient_id, dtype: int64"
      ]
     },
     "execution_count": 182,
     "metadata": {},
     "output_type": "execute_result"
    }
   ],
   "source": [
    "# convert PatientId to int\n",
    "df['patient_id'] = df['patient_id'].astype(int)\n",
    "# and confirm the chance \n",
    "df['patient_id'].head()"
   ]
  },
  {
   "cell_type": "code",
   "execution_count": 183,
   "metadata": {},
   "outputs": [
    {
     "data": {
      "text/html": [
       "<div>\n",
       "<style scoped>\n",
       "    .dataframe tbody tr th:only-of-type {\n",
       "        vertical-align: middle;\n",
       "    }\n",
       "\n",
       "    .dataframe tbody tr th {\n",
       "        vertical-align: top;\n",
       "    }\n",
       "\n",
       "    .dataframe thead th {\n",
       "        text-align: right;\n",
       "    }\n",
       "</style>\n",
       "<table border=\"1\" class=\"dataframe\">\n",
       "  <thead>\n",
       "    <tr style=\"text-align: right;\">\n",
       "      <th></th>\n",
       "      <th>patient_id</th>\n",
       "      <th>appointment_id</th>\n",
       "      <th>gender</th>\n",
       "      <th>scheduled_day</th>\n",
       "      <th>appointment_day</th>\n",
       "      <th>age</th>\n",
       "      <th>neighbourhood</th>\n",
       "      <th>scholarship</th>\n",
       "      <th>hipertension</th>\n",
       "      <th>diabetes</th>\n",
       "      <th>alcoholism</th>\n",
       "      <th>handcap</th>\n",
       "      <th>sms_received</th>\n",
       "      <th>no_show</th>\n",
       "      <th>appointment_time</th>\n",
       "      <th>scheduled_time</th>\n",
       "    </tr>\n",
       "  </thead>\n",
       "  <tbody>\n",
       "    <tr>\n",
       "      <th>0</th>\n",
       "      <td>29872499824296</td>\n",
       "      <td>5642903</td>\n",
       "      <td>F</td>\n",
       "      <td>2016-04-29</td>\n",
       "      <td>2016-04-29</td>\n",
       "      <td>62</td>\n",
       "      <td>JARDIM DA PENHA</td>\n",
       "      <td>0</td>\n",
       "      <td>1</td>\n",
       "      <td>0</td>\n",
       "      <td>0</td>\n",
       "      <td>0</td>\n",
       "      <td>0</td>\n",
       "      <td>No</td>\n",
       "      <td>00:00:00</td>\n",
       "      <td>18:38:08</td>\n",
       "    </tr>\n",
       "    <tr>\n",
       "      <th>1</th>\n",
       "      <td>558997776694438</td>\n",
       "      <td>5642503</td>\n",
       "      <td>M</td>\n",
       "      <td>2016-04-29</td>\n",
       "      <td>2016-04-29</td>\n",
       "      <td>56</td>\n",
       "      <td>JARDIM DA PENHA</td>\n",
       "      <td>0</td>\n",
       "      <td>0</td>\n",
       "      <td>0</td>\n",
       "      <td>0</td>\n",
       "      <td>0</td>\n",
       "      <td>0</td>\n",
       "      <td>No</td>\n",
       "      <td>00:00:00</td>\n",
       "      <td>16:08:27</td>\n",
       "    </tr>\n",
       "  </tbody>\n",
       "</table>\n",
       "</div>"
      ],
      "text/plain": [
       "        patient_id  appointment_id gender scheduled_day appointment_day  age  \\\n",
       "0   29872499824296         5642903      F    2016-04-29      2016-04-29   62   \n",
       "1  558997776694438         5642503      M    2016-04-29      2016-04-29   56   \n",
       "\n",
       "     neighbourhood  scholarship  hipertension  diabetes  alcoholism  handcap  \\\n",
       "0  JARDIM DA PENHA            0             1         0           0        0   \n",
       "1  JARDIM DA PENHA            0             0         0           0        0   \n",
       "\n",
       "   sms_received no_show appointment_time scheduled_time  \n",
       "0             0      No         00:00:00       18:38:08  \n",
       "1             0      No         00:00:00       16:08:27  "
      ]
     },
     "execution_count": 183,
     "metadata": {},
     "output_type": "execute_result"
    }
   ],
   "source": [
    "# convert the two date-time columns to date time and split the date from the time\n",
    "# I will create 2 dummy variables. It makes the code longer but gives me more confidence on the results\n",
    "df['appointment_day2'] = df['appointment_day'] \n",
    "df['scheduled_day2'] = df['scheduled_day'] \n",
    "\n",
    "df['appointment_day'] = pd.to_datetime(df['appointment_day2'], format=\"%Y-%m-%dT%H:%M:%SZ\").dt.date\n",
    "df['appointment_time'] = pd.to_datetime(df['appointment_day2'], format=\"%Y-%m-%dT%H:%M:%SZ\").dt.time\n",
    "\n",
    "df['scheduled_day'] = pd.to_datetime(df['scheduled_day2'], format=\"%Y-%m-%dT%H:%M:%SZ\").dt.date\n",
    "df['scheduled_time'] = pd.to_datetime(df['scheduled_day2'], format=\"%Y-%m-%dT%H:%M:%SZ\").dt.time\n",
    "# check the results\n",
    "df.head(2)\n",
    "# drop duplicated date columns\n",
    "df.drop(columns=['scheduled_day2', 'appointment_day2'], axis = 1, inplace = True)"
   ]
  },
  {
   "cell_type": "code",
   "execution_count": 199,
   "metadata": {},
   "outputs": [
    {
     "data": {
      "text/plain": [
       "array([0, 1])"
      ]
     },
     "execution_count": 199,
     "metadata": {},
     "output_type": "execute_result"
    }
   ],
   "source": [
    "# create a column based on \"no show\". Yes = no show = 1, No = show = 0\n",
    "# It will allow to manage the metrics for EDA\n",
    "df['no_show'].unique()\n",
    "df['no_show_int'] = df['no_show'].map({'Yes': 1, 'No': 0}).astype(int)\n",
    "df['no_show_int'].unique()"
   ]
  },
  {
   "cell_type": "code",
   "execution_count": 210,
   "metadata": {},
   "outputs": [],
   "source": [
    "# finally, save the data\n",
    "df.to_csv('no_show_appointments_clean.csv', index = False)"
   ]
  },
  {
   "cell_type": "markdown",
   "metadata": {},
   "source": [
    "<a id='eda'></a>\n",
    "## Exploratory Data Analysis\n",
    "\n",
    "We will explore the relationship between each of the variables in the dataset and the show/no-show appointments\n",
    "\n",
    "### Check the overall no-show ratio"
   ]
  },
  {
   "cell_type": "code",
   "execution_count": 200,
   "metadata": {},
   "outputs": [
    {
     "name": "stdout",
     "output_type": "stream",
     "text": [
      "The no-show ratio is 19.6 %\n"
     ]
    }
   ],
   "source": [
    "# let's check the no-show ratio\n",
    "print('The no-show ratio is {} %'.format(round(df['no_show_int'].mean(),3)*100))"
   ]
  },
  {
   "cell_type": "markdown",
   "metadata": {},
   "source": [
    "### Explore correlation with gender\n",
    "> Hypothesis: a certain gender is more likely to a \"no show\" at hospital appointments"
   ]
  },
  {
   "cell_type": "code",
   "execution_count": 186,
   "metadata": {},
   "outputs": [
    {
     "name": "stdout",
     "output_type": "stream",
     "text": [
      "the number of female and male patients is respectively:\n",
      "F    40046\n",
      "M    22253\n",
      "Name: gender, dtype: int64\n"
     ]
    }
   ],
   "source": [
    "# check the split between gender\n",
    "print('the number of female and male patients is respectively:\\n{}'.format(df.gender.value_counts()))"
   ]
  },
  {
   "cell_type": "code",
   "execution_count": 187,
   "metadata": {},
   "outputs": [
    {
     "data": {
      "text/plain": [
       "gender\n",
       "F    0.195475\n",
       "M    0.196153\n",
       "Name: no_show_int, dtype: float64"
      ]
     },
     "execution_count": 187,
     "metadata": {},
     "output_type": "execute_result"
    }
   ],
   "source": [
    "# check if there is any correlation between no show and gender\n",
    "df.groupby('gender').no_show_int.mean()\n",
    "# results below show no significant difference for no show between different gender"
   ]
  },
  {
   "cell_type": "markdown",
   "metadata": {},
   "source": [
    "### Explore correlation with neighborough\n",
    "> Hypothesis: certain hospitals (neighborhood) are more likely to get a \"no show\" at a scheduled appointment"
   ]
  },
  {
   "cell_type": "code",
   "execution_count": 202,
   "metadata": {},
   "outputs": [
    {
     "name": "stdout",
     "output_type": "stream",
     "text": [
      "The patient split by neighborough is the following::\n",
      "JARDIM CAMBURI                 4192\n",
      "MARIA ORTIZ                    3336\n",
      "JARDIM DA PENHA                2406\n",
      "RESISTÊNCIA                    2373\n",
      "ITARARÉ                        2136\n",
      "                               ... \n",
      "ILHA DO BOI                      22\n",
      "AEROPORTO                         7\n",
      "ILHA DO FRADE                     5\n",
      "ILHAS OCEÂNICAS DE TRINDADE       2\n",
      "PARQUE INDUSTRIAL                 1\n",
      "Name: neighbourhood, Length: 81, dtype: int64\n"
     ]
    }
   ],
   "source": [
    "### check the split between neighborougs\n",
    "print('The patient split by neighborough is the following::\\n{}'.format(df.neighbourhood.value_counts()))\n",
    "# set number of patients for the first i most represented neighbourhoods \n",
    "# some neighbourhoods have small number of patients, hence we will set n = 100 as cutoff value\n",
    "neigh_ind = df.neighbourhood.value_counts().loc[lambda x: x>100].index"
   ]
  },
  {
   "cell_type": "code",
   "execution_count": 189,
   "metadata": {},
   "outputs": [
    {
     "data": {
      "text/plain": [
       "count    71.000000\n",
       "mean      0.199958\n",
       "std       0.038296\n",
       "min       0.142549\n",
       "25%       0.170077\n",
       "50%       0.194825\n",
       "75%       0.222419\n",
       "max       0.336634\n",
       "Name: no_show_int, dtype: float64"
      ]
     },
     "execution_count": 189,
     "metadata": {},
     "output_type": "execute_result"
    }
   ],
   "source": [
    "# group the hospitals by neighbourhood and compute the ratio of \"no show\" appointments\n",
    "neigh_no_show = df.loc[df.neighbourhood.isin(neigh_ind)].groupby('neighbourhood').no_show_int.mean()\n",
    "neigh_no_show.describe()"
   ]
  },
  {
   "cell_type": "markdown",
   "metadata": {},
   "source": [
    "### Explore relation to age\n",
    "##### Hypothesis\n",
    "> certain age groups are more likely to \"no show\" at an appointment\n",
    "\n",
    "It requires creation of age bins"
   ]
  },
  {
   "cell_type": "code",
   "execution_count": 204,
   "metadata": {},
   "outputs": [
    {
     "data": {
      "text/plain": [
       "count    62299.000000\n",
       "mean        36.704891\n",
       "std         23.531372\n",
       "min         -1.000000\n",
       "25%         17.000000\n",
       "50%         36.000000\n",
       "75%         56.000000\n",
       "max        115.000000\n",
       "Name: age, dtype: float64"
      ]
     },
     "execution_count": 204,
     "metadata": {},
     "output_type": "execute_result"
    }
   ],
   "source": [
    "# Firstly check the age range of data\n",
    "df['age'].describe()\n",
    "# some show an age of -1, maybe they related to antenatal hospital checks/visits\n",
    "# for the sake of this investigation, we will ignore those"
   ]
  },
  {
   "cell_type": "code",
   "execution_count": 206,
   "metadata": {},
   "outputs": [
    {
     "data": {
      "text/plain": [
       "['0 to 20', '20 to 40', '40 to 60', '60 to 80', '80 to 100']"
      ]
     },
     "execution_count": 206,
     "metadata": {},
     "output_type": "execute_result"
    }
   ],
   "source": [
    "# create 5 bins\n",
    "import numpy as np\n",
    "bin_age = np.linspace(0,100,6)\n",
    "bin_name = ['0 to 20', '20 to 40', '40 to 60', '60 to 80', '80 to 100']\n",
    "bin_name"
   ]
  },
  {
   "cell_type": "code",
   "execution_count": 207,
   "metadata": {},
   "outputs": [],
   "source": [
    "df['age_rank'] = pd.cut(df['age'], bin_age, labels = bin_name)\n",
    "# df.head(20)"
   ]
  },
  {
   "cell_type": "code",
   "execution_count": 208,
   "metadata": {
    "scrolled": false
   },
   "outputs": [
    {
     "data": {
      "image/png": "[encoded data removed]",
      "text/plain": [
       "<Figure size 432x288 with 1 Axes>"
      ]
     },
     "metadata": {
      "needs_background": "light"
     },
     "output_type": "display_data"
    }
   ],
   "source": [
    "# bar chart showing the ratio of no show for each age group\n",
    "plt.bar(df.groupby('age_rank').no_show_int.mean().index, df.groupby('age_rank').no_show_int.mean()*100)\n",
    "plt.title('Percentage of \"no show\" for each age group')\n",
    "plt.xlabel('age group')\n",
    "plt.ylabel(\"No-show per hundred appointments\");\n"
   ]
  },
  {
   "cell_type": "markdown",
   "metadata": {},
   "source": [
    "### Time Elapsed\n",
    "> Hypothesis: the more time passess between scheduling and the appointment, the more likely the patient not to show"
   ]
  },
  {
   "cell_type": "code",
   "execution_count": 194,
   "metadata": {},
   "outputs": [],
   "source": [
    "# calculate the time elapsed between scheduling and the actual appointment\n",
    "df['waiting_time'] = df['appointment_day'] - df['scheduled_day']\n",
    "# convert the column into integerù\n",
    "df['waiting_time'] = df['waiting_time'].dt.days.astype(int)"
   ]
  },
  {
   "cell_type": "code",
   "execution_count": 195,
   "metadata": {},
   "outputs": [
    {
     "data": {
      "text/plain": [
       "array([ -1.,   4.,  17., 179.])"
      ]
     },
     "execution_count": 195,
     "metadata": {},
     "output_type": "execute_result"
    }
   ],
   "source": [
    "# in the same fashion as the previous exploration, let's split the dataset in bins\n",
    "bin_wait = np.array([-1.0, 4.0, 17.0, 179.0])\n",
    "bin_wait_name = ['same day to 4', '4 to 17 days', 'more than 17 days']\n",
    "df['waiting_time_bin'] = pd.cut(df['waiting_time'], bin_wait, labels = bin_wait_name)\n",
    "bin_wait"
   ]
  },
  {
   "cell_type": "code",
   "execution_count": 196,
   "metadata": {},
   "outputs": [],
   "source": [
    "#df.head(30)"
   ]
  },
  {
   "cell_type": "code",
   "execution_count": 197,
   "metadata": {},
   "outputs": [
    {
     "data": {
      "image/png": "[encoded data removed]",
      "text/plain": [
       "<Figure size 432x288 with 1 Axes>"
      ]
     },
     "metadata": {
      "needs_background": "light"
     },
     "output_type": "display_data"
    }
   ],
   "source": [
    "plt.bar(df.groupby('waiting_time_bin').no_show_int.mean().index, df.groupby('waiting_time_bin').no_show_int.mean()*100)\n",
    "plt.title('Percentage of \"no show\" as a function of waiting time')\n",
    "plt.xlabel('waiting time')\n",
    "plt.ylabel(\"No-show per hundred appointments\");\n"
   ]
  },
  {
   "cell_type": "markdown",
   "metadata": {},
   "source": [
    "<a id='conclusions'></a>\n",
    "## Conclusions of EDA\n",
    "\n",
    "### Correlation with gender\n",
    "> From the simple test run, no apparent correlation was found\n",
    "\n",
    "### Correlation with neighbourhood (hospital location)\n",
    "> There is a large difference between certain hospitals (from 14% \"no show\" of the \"best\" up to 34% of the worst).\n",
    "A better knowledge of the hospital characteristics could lead to interesting findings on the causes of no shows.\n",
    "\n",
    "### Correlation with age\n",
    "> The plot shows a certain level of correlation between \"no show\" and age of the patient, with younger ages tending to miss more frequently hospital appointments.\n",
    "\n",
    "### Correlation with waiting time\n",
    "> There is an apparent correlation between the time elapsed from the initial booking to the appointment date and the no-show ratio.\n",
    "> Interestingly, the no-show ratio jumps\n",
    "> - from 10% in the case in which the appointment is booked in within 4 days\n",
    "> - to more than 25% when it is booked between 4 and 17 days from the setting day"
   ]
  },
  {
   "cell_type": "code",
   "execution_count": null,
   "metadata": {},
   "outputs": [],
   "source": []
  }
 ],
 "metadata": {
  "kernelspec": {
   "display_name": "Python 3 (ipykernel)",
   "language": "python",
   "name": "python3"
  },
  "language_info": {
   "codemirror_mode": {
    "name": "ipython",
    "version": 3
   },
   "file_extension": ".py",
   "mimetype": "text/x-python",
   "name": "python",
   "nbconvert_exporter": "python",
   "pygments_lexer": "ipython3",
   "version": "3.9.7"
  }
 },
 "nbformat": 4,
 "nbformat_minor": 2
}
